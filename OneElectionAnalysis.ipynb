{
 "cells": [
  {
   "cell_type": "markdown",
   "metadata": {
    "id": "lyQ45Phps6Z6"
   },
   "source": [
    "# **Israel Elections Data Analysis**\n",
    "\n",
    "An example notebook showing how to read and display the Israel 2020 elections results. "
   ]
  },
  {
   "cell_type": "code",
   "execution_count": 1,
   "metadata": {
    "colab": {
     "base_uri": "https://localhost:8080/",
     "height": 34
    },
    "executionInfo": {
     "elapsed": 864,
     "status": "ok",
     "timestamp": 1603447763769,
     "user": {
      "displayName": "Or Zuk",
      "photoUrl": "https://lh3.googleusercontent.com/a-/AOh14GiW_M7jrZ4Bahr62iPCzlinlcLehvacWX7OaYw5PA=s64",
      "userId": "01571678790529010894"
     },
     "user_tz": -180
    },
    "id": "eRKSr5EstAUm",
    "outputId": "702af918-a631-4e49-d31c-bfc25d88a9c8"
   },
   "outputs": [
    {
     "name": "stdout",
     "output_type": "stream",
     "text": [
      "Running locally on Jupyter\n"
     ]
    }
   ],
   "source": [
    "# Add a check if we run in google colab or locally in jupyter notebook\n",
    "run_in_colab = False\n",
    "if 'google.colab' in str(get_ipython()):\n",
    "    run_in_colab = True\n",
    "    print('Running on CoLab')\n",
    "else:\n",
    "    print('Running locally on Jupyter')\n",
    "\n",
    "import sys"
   ]
  },
  {
   "cell_type": "code",
   "execution_count": 2,
   "metadata": {
    "executionInfo": {
     "elapsed": 768,
     "status": "ok",
     "timestamp": 1603447817121,
     "user": {
      "displayName": "Or Zuk",
      "photoUrl": "https://lh3.googleusercontent.com/a-/AOh14GiW_M7jrZ4Bahr62iPCzlinlcLehvacWX7OaYw5PA=s64",
      "userId": "01571678790529010894"
     },
     "user_tz": -180
    },
    "id": "FTNiH27ZzL1F"
   },
   "outputs": [],
   "source": [
    "# First install tha needed packages using conda in the current Jupyter kernel\n",
    "# Run once - should take a long time!\n",
    "\n",
    "#if not(run_in_colab):\n",
    "#  !conda install --yes --prefix {sys.prefix} numpy\n",
    "#  !conda install --yes --prefix {sys.prefix} pandas\n",
    "#  !conda install --yes --prefix {sys.prefix} matplotlib\n",
    "#  !conda install --yes --prefix {sys.prefix} statsmodels  # statistical modelling \n",
    "#  !conda install --yes --prefix {sys.prefix} xlrd  # read excel \n",
    "#  !conda install --yes --prefix {sys.prefix} scikit-learn\n",
    "\n",
    "\n",
    "# Alternatively, if your python wasn't installed using anaconda, we can use pip install: \n",
    "# !{sys.executable} -m pip install numpy\n",
    "# !{sys.executable} -m pip install pandas\n",
    "# !{sys.executable} -m pip install matplotlib\n"
   ]
  },
  {
   "cell_type": "code",
   "execution_count": 3,
   "metadata": {
    "executionInfo": {
     "elapsed": 757,
     "status": "ok",
     "timestamp": 1603447820968,
     "user": {
      "displayName": "Or Zuk",
      "photoUrl": "https://lh3.googleusercontent.com/a-/AOh14GiW_M7jrZ4Bahr62iPCzlinlcLehvacWX7OaYw5PA=s64",
      "userId": "01571678790529010894"
     },
     "user_tz": -180
    },
    "id": "iC0NlMvHzL1L"
   },
   "outputs": [],
   "source": [
    "# Import modules \n",
    "import numpy as np  # a module for working with numerical array \n",
    "import pandas as pd  # a module for working with data-frames\n",
    "import statsmodels.api as sm  # a module for statistical modelling (e.g. regression analysis)\n"
   ]
  },
  {
   "cell_type": "markdown",
   "metadata": {
    "id": "pGTS_zCRZGfV"
   },
   "source": [
    "First, we need to mount our local drive to the colab network"
   ]
  },
  {
   "cell_type": "code",
   "execution_count": 4,
   "metadata": {
    "colab": {
     "base_uri": "https://localhost:8080/",
     "height": 34
    },
    "executionInfo": {
     "elapsed": 676,
     "status": "ok",
     "timestamp": 1603447919487,
     "user": {
      "displayName": "Or Zuk",
      "photoUrl": "https://lh3.googleusercontent.com/a-/AOh14GiW_M7jrZ4Bahr62iPCzlinlcLehvacWX7OaYw5PA=s64",
      "userId": "01571678790529010894"
     },
     "user_tz": -180
    },
    "id": "RWSJpsyKqHjH",
    "outputId": "c7f73b4d-3f47-4040-a19e-2a3673dd008b"
   },
   "outputs": [],
   "source": [
    "# Mount drive in google colab\n",
    "if run_in_colab:\n",
    "    from google.colab import drive\n",
    "    drive.mount('/content/drive')\n",
    "else:  # Set local path \n",
    "    data_path = \"C:/Users/Or Zuk/Google Drive/HUJI/Teaching/Lab_52568/Data/Elections/\"  \n"
   ]
  },
  {
   "cell_type": "code",
   "execution_count": 5,
   "metadata": {
    "colab": {
     "base_uri": "https://localhost:8080/",
     "height": 72,
     "resources": {
      "http://localhost:8080/nbextensions/google.colab/files.js": {
       "data": "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",
       "headers": [
        [
         "content-type",
         "application/javascript"
        ]
       ],
       "ok": true,
       "status": 200,
       "status_text": ""
      }
     }
    },
    "executionInfo": {
     "elapsed": 28466,
     "status": "ok",
     "timestamp": 1603447962572,
     "user": {
      "displayName": "Or Zuk",
      "photoUrl": "https://lh3.googleusercontent.com/a-/AOh14GiW_M7jrZ4Bahr62iPCzlinlcLehvacWX7OaYw5PA=s64",
      "userId": "01571678790529010894"
     },
     "user_tz": -180
    },
    "id": "xaG-KYCw8XZz",
    "outputId": "8f4a4efe-0477-4a1b-aab3-ad9ab2dd096b"
   },
   "outputs": [],
   "source": [
    "# Loading elections 2020 elections data:\n",
    "if run_in_colab:\n",
    "    from google.colab import files\n",
    "    uploaded = files.upload()"
   ]
  },
  {
   "cell_type": "code",
   "execution_count": 6,
   "metadata": {
    "colab": {
     "base_uri": "https://localhost:8080/",
     "height": 320
    },
    "executionInfo": {
     "elapsed": 875,
     "status": "ok",
     "timestamp": 1603448580143,
     "user": {
      "displayName": "Or Zuk",
      "photoUrl": "https://lh3.googleusercontent.com/a-/AOh14GiW_M7jrZ4Bahr62iPCzlinlcLehvacWX7OaYw5PA=s64",
      "userId": "01571678790529010894"
     },
     "user_tz": -180
    },
    "id": "QxK5YlBH1geD",
    "outputId": "bfb66687-c6e6-4640-d9eb-49f040e3ee76"
   },
   "outputs": [
    {
     "name": "stdout",
     "output_type": "stream",
     "text": [
      "Index(['סמל ועדה', 'סמל ישוב', 'בזב', 'מצביעים', 'פסולים', 'כשרים', 'אמת', 'ג',\n",
      "       'ודעם', 'ז', 'זך', 'זץ', 'טב', 'י', 'יז', 'ינ', 'יף', 'יק', 'יר', 'כ',\n",
      "       'כן', 'ל', 'מחל', 'נ', 'נז', 'ני', 'נץ', 'נק', 'פה', 'ףז', 'ץ', 'ק',\n",
      "       'קי', 'קך', 'קץ', 'שס', 'Unnamed: 37'],\n",
      "      dtype='object')\n"
     ]
    },
    {
     "data": {
      "text/html": [
       "<div>\n",
       "<style scoped>\n",
       "    .dataframe tbody tr th:only-of-type {\n",
       "        vertical-align: middle;\n",
       "    }\n",
       "\n",
       "    .dataframe tbody tr th {\n",
       "        vertical-align: top;\n",
       "    }\n",
       "\n",
       "    .dataframe thead th {\n",
       "        text-align: right;\n",
       "    }\n",
       "</style>\n",
       "<table border=\"1\" class=\"dataframe\">\n",
       "  <thead>\n",
       "    <tr style=\"text-align: right;\">\n",
       "      <th></th>\n",
       "      <th>אמת</th>\n",
       "      <th>ג</th>\n",
       "      <th>ודעם</th>\n",
       "      <th>ז</th>\n",
       "      <th>זך</th>\n",
       "      <th>זץ</th>\n",
       "      <th>טב</th>\n",
       "      <th>י</th>\n",
       "      <th>יז</th>\n",
       "      <th>ינ</th>\n",
       "      <th>...</th>\n",
       "      <th>נץ</th>\n",
       "      <th>נק</th>\n",
       "      <th>פה</th>\n",
       "      <th>ףז</th>\n",
       "      <th>ץ</th>\n",
       "      <th>ק</th>\n",
       "      <th>קי</th>\n",
       "      <th>קך</th>\n",
       "      <th>קץ</th>\n",
       "      <th>שס</th>\n",
       "    </tr>\n",
       "    <tr>\n",
       "      <th>שם ישוב</th>\n",
       "      <th></th>\n",
       "      <th></th>\n",
       "      <th></th>\n",
       "      <th></th>\n",
       "      <th></th>\n",
       "      <th></th>\n",
       "      <th></th>\n",
       "      <th></th>\n",
       "      <th></th>\n",
       "      <th></th>\n",
       "      <th></th>\n",
       "      <th></th>\n",
       "      <th></th>\n",
       "      <th></th>\n",
       "      <th></th>\n",
       "      <th></th>\n",
       "      <th></th>\n",
       "      <th></th>\n",
       "      <th></th>\n",
       "      <th></th>\n",
       "      <th></th>\n",
       "    </tr>\n",
       "  </thead>\n",
       "  <tbody>\n",
       "    <tr>\n",
       "      <th>אבו גווייעד שבט</th>\n",
       "      <td>13</td>\n",
       "      <td>0</td>\n",
       "      <td>554</td>\n",
       "      <td>0</td>\n",
       "      <td>0</td>\n",
       "      <td>0</td>\n",
       "      <td>0</td>\n",
       "      <td>0</td>\n",
       "      <td>1</td>\n",
       "      <td>0</td>\n",
       "      <td>...</td>\n",
       "      <td>0</td>\n",
       "      <td>0</td>\n",
       "      <td>8</td>\n",
       "      <td>2</td>\n",
       "      <td>0</td>\n",
       "      <td>0</td>\n",
       "      <td>0</td>\n",
       "      <td>0</td>\n",
       "      <td>2</td>\n",
       "      <td>2</td>\n",
       "    </tr>\n",
       "    <tr>\n",
       "      <th>אבו גוש</th>\n",
       "      <td>75</td>\n",
       "      <td>4</td>\n",
       "      <td>2157</td>\n",
       "      <td>0</td>\n",
       "      <td>0</td>\n",
       "      <td>0</td>\n",
       "      <td>5</td>\n",
       "      <td>0</td>\n",
       "      <td>0</td>\n",
       "      <td>5</td>\n",
       "      <td>...</td>\n",
       "      <td>3</td>\n",
       "      <td>2</td>\n",
       "      <td>123</td>\n",
       "      <td>0</td>\n",
       "      <td>2</td>\n",
       "      <td>0</td>\n",
       "      <td>0</td>\n",
       "      <td>1</td>\n",
       "      <td>4</td>\n",
       "      <td>14</td>\n",
       "    </tr>\n",
       "    <tr>\n",
       "      <th>אבו סנאן</th>\n",
       "      <td>92</td>\n",
       "      <td>6</td>\n",
       "      <td>4458</td>\n",
       "      <td>0</td>\n",
       "      <td>1</td>\n",
       "      <td>0</td>\n",
       "      <td>16</td>\n",
       "      <td>1</td>\n",
       "      <td>2</td>\n",
       "      <td>13</td>\n",
       "      <td>...</td>\n",
       "      <td>3</td>\n",
       "      <td>3</td>\n",
       "      <td>752</td>\n",
       "      <td>0</td>\n",
       "      <td>2</td>\n",
       "      <td>2</td>\n",
       "      <td>1</td>\n",
       "      <td>2</td>\n",
       "      <td>4</td>\n",
       "      <td>247</td>\n",
       "    </tr>\n",
       "    <tr>\n",
       "      <th>אבו עבדון שבט</th>\n",
       "      <td>0</td>\n",
       "      <td>0</td>\n",
       "      <td>40</td>\n",
       "      <td>0</td>\n",
       "      <td>0</td>\n",
       "      <td>0</td>\n",
       "      <td>0</td>\n",
       "      <td>0</td>\n",
       "      <td>0</td>\n",
       "      <td>0</td>\n",
       "      <td>...</td>\n",
       "      <td>0</td>\n",
       "      <td>0</td>\n",
       "      <td>0</td>\n",
       "      <td>0</td>\n",
       "      <td>0</td>\n",
       "      <td>0</td>\n",
       "      <td>0</td>\n",
       "      <td>0</td>\n",
       "      <td>0</td>\n",
       "      <td>0</td>\n",
       "    </tr>\n",
       "    <tr>\n",
       "      <th>אבו קורינאת שבט</th>\n",
       "      <td>9</td>\n",
       "      <td>0</td>\n",
       "      <td>1263</td>\n",
       "      <td>0</td>\n",
       "      <td>0</td>\n",
       "      <td>0</td>\n",
       "      <td>1</td>\n",
       "      <td>0</td>\n",
       "      <td>0</td>\n",
       "      <td>3</td>\n",
       "      <td>...</td>\n",
       "      <td>1</td>\n",
       "      <td>0</td>\n",
       "      <td>33</td>\n",
       "      <td>0</td>\n",
       "      <td>2</td>\n",
       "      <td>1</td>\n",
       "      <td>0</td>\n",
       "      <td>2</td>\n",
       "      <td>1</td>\n",
       "      <td>0</td>\n",
       "    </tr>\n",
       "  </tbody>\n",
       "</table>\n",
       "<p>5 rows × 30 columns</p>\n",
       "</div>"
      ],
      "text/plain": [
       "                 אמת  ג  ודעם  ז  זך  זץ  טב  י  יז  ינ  ...  נץ  נק   פה  ףז  \\\n",
       "שם ישוב                                                  ...                    \n",
       "אבו גווייעד שבט   13  0   554  0   0   0   0  0   1   0  ...   0   0    8   2   \n",
       "אבו גוש           75  4  2157  0   0   0   5  0   0   5  ...   3   2  123   0   \n",
       "אבו סנאן          92  6  4458  0   1   0  16  1   2  13  ...   3   3  752   0   \n",
       "אבו עבדון שבט      0  0    40  0   0   0   0  0   0   0  ...   0   0    0   0   \n",
       "אבו קורינאת שבט    9  0  1263  0   0   0   1  0   0   3  ...   1   0   33   0   \n",
       "\n",
       "                 ץ  ק  קי  קך  קץ   שס  \n",
       "שם ישוב                                 \n",
       "אבו גווייעד שבט  0  0   0   0   2    2  \n",
       "אבו גוש          2  0   0   1   4   14  \n",
       "אבו סנאן         2  2   1   2   4  247  \n",
       "אבו עבדון שבט    0  0   0   0   0    0  \n",
       "אבו קורינאת שבט  2  1   0   2   1    0  \n",
       "\n",
       "[5 rows x 30 columns]"
      ]
     },
     "execution_count": 6,
     "metadata": {},
     "output_type": "execute_result"
    }
   ],
   "source": [
    "from elections_functions import * # import from local file\n",
    "import io\n",
    "\n",
    "data_type = \"city\" # \"ballot\"  # city\n",
    "df_2020, df_2020_raw = read_election_results(\"2020\", \"city\", run_in_colab)\n",
    "\n",
    "# Dataset is now stored in a Pandas Dataframe\n",
    "print(df_2020_raw.columns)\n",
    "df_2020.head()"
   ]
  },
  {
   "cell_type": "code",
   "execution_count": 7,
   "metadata": {
    "colab": {
     "base_uri": "https://localhost:8080/",
     "height": 317
    },
    "executionInfo": {
     "elapsed": 841,
     "status": "ok",
     "timestamp": 1603448591799,
     "user": {
      "displayName": "Or Zuk",
      "photoUrl": "https://lh3.googleusercontent.com/a-/AOh14GiW_M7jrZ4Bahr62iPCzlinlcLehvacWX7OaYw5PA=s64",
      "userId": "01571678790529010894"
     },
     "user_tz": -180
    },
    "id": "w_T9kVJ9m1cE",
    "outputId": "ffebfb64-8aed-42b4-d244-11dc52d98e90"
   },
   "outputs": [
    {
     "data": {
      "text/html": [
       "<div>\n",
       "<style scoped>\n",
       "    .dataframe tbody tr th:only-of-type {\n",
       "        vertical-align: middle;\n",
       "    }\n",
       "\n",
       "    .dataframe tbody tr th {\n",
       "        vertical-align: top;\n",
       "    }\n",
       "\n",
       "    .dataframe thead th {\n",
       "        text-align: right;\n",
       "    }\n",
       "</style>\n",
       "<table border=\"1\" class=\"dataframe\">\n",
       "  <thead>\n",
       "    <tr style=\"text-align: right;\">\n",
       "      <th></th>\n",
       "      <th>אמת</th>\n",
       "      <th>ג</th>\n",
       "      <th>ודעם</th>\n",
       "      <th>ז</th>\n",
       "      <th>זך</th>\n",
       "      <th>זץ</th>\n",
       "      <th>טב</th>\n",
       "      <th>י</th>\n",
       "      <th>יז</th>\n",
       "      <th>ינ</th>\n",
       "      <th>...</th>\n",
       "      <th>נץ</th>\n",
       "      <th>נק</th>\n",
       "      <th>פה</th>\n",
       "      <th>ףז</th>\n",
       "      <th>ץ</th>\n",
       "      <th>ק</th>\n",
       "      <th>קי</th>\n",
       "      <th>קך</th>\n",
       "      <th>קץ</th>\n",
       "      <th>שס</th>\n",
       "    </tr>\n",
       "  </thead>\n",
       "  <tbody>\n",
       "    <tr>\n",
       "      <th>count</th>\n",
       "      <td>1213.000000</td>\n",
       "      <td>1213.000000</td>\n",
       "      <td>1213.000000</td>\n",
       "      <td>1213.000000</td>\n",
       "      <td>1213.000000</td>\n",
       "      <td>1213.0</td>\n",
       "      <td>1213.000000</td>\n",
       "      <td>1213.000000</td>\n",
       "      <td>1213.000000</td>\n",
       "      <td>1213.000000</td>\n",
       "      <td>...</td>\n",
       "      <td>1213.000000</td>\n",
       "      <td>1213.000000</td>\n",
       "      <td>1213.000000</td>\n",
       "      <td>1213.000000</td>\n",
       "      <td>1213.000000</td>\n",
       "      <td>1213.000000</td>\n",
       "      <td>1213.000000</td>\n",
       "      <td>1213.000000</td>\n",
       "      <td>1213.000000</td>\n",
       "      <td>1213.000000</td>\n",
       "    </tr>\n",
       "    <tr>\n",
       "      <th>mean</th>\n",
       "      <td>200.612531</td>\n",
       "      <td>215.210223</td>\n",
       "      <td>464.492993</td>\n",
       "      <td>2.603462</td>\n",
       "      <td>0.158285</td>\n",
       "      <td>0.0</td>\n",
       "      <td>175.871393</td>\n",
       "      <td>0.236603</td>\n",
       "      <td>0.234955</td>\n",
       "      <td>0.528442</td>\n",
       "      <td>...</td>\n",
       "      <td>14.591921</td>\n",
       "      <td>0.474856</td>\n",
       "      <td>925.435284</td>\n",
       "      <td>0.850783</td>\n",
       "      <td>0.459192</td>\n",
       "      <td>0.742786</td>\n",
       "      <td>0.342127</td>\n",
       "      <td>0.519373</td>\n",
       "      <td>1.061830</td>\n",
       "      <td>271.713932</td>\n",
       "    </tr>\n",
       "    <tr>\n",
       "      <th>std</th>\n",
       "      <td>1326.816330</td>\n",
       "      <td>2551.099158</td>\n",
       "      <td>2159.585435</td>\n",
       "      <td>14.607919</td>\n",
       "      <td>0.832314</td>\n",
       "      <td>0.0</td>\n",
       "      <td>855.339964</td>\n",
       "      <td>1.566748</td>\n",
       "      <td>1.146108</td>\n",
       "      <td>2.208271</td>\n",
       "      <td>...</td>\n",
       "      <td>71.550653</td>\n",
       "      <td>1.747342</td>\n",
       "      <td>5246.613547</td>\n",
       "      <td>4.209450</td>\n",
       "      <td>2.167345</td>\n",
       "      <td>3.353702</td>\n",
       "      <td>1.505495</td>\n",
       "      <td>2.050677</td>\n",
       "      <td>4.566917</td>\n",
       "      <td>1830.697472</td>\n",
       "    </tr>\n",
       "    <tr>\n",
       "      <th>min</th>\n",
       "      <td>0.000000</td>\n",
       "      <td>0.000000</td>\n",
       "      <td>0.000000</td>\n",
       "      <td>0.000000</td>\n",
       "      <td>0.000000</td>\n",
       "      <td>0.0</td>\n",
       "      <td>0.000000</td>\n",
       "      <td>0.000000</td>\n",
       "      <td>0.000000</td>\n",
       "      <td>0.000000</td>\n",
       "      <td>...</td>\n",
       "      <td>0.000000</td>\n",
       "      <td>0.000000</td>\n",
       "      <td>0.000000</td>\n",
       "      <td>0.000000</td>\n",
       "      <td>0.000000</td>\n",
       "      <td>0.000000</td>\n",
       "      <td>0.000000</td>\n",
       "      <td>0.000000</td>\n",
       "      <td>0.000000</td>\n",
       "      <td>0.000000</td>\n",
       "    </tr>\n",
       "    <tr>\n",
       "      <th>25%</th>\n",
       "      <td>9.000000</td>\n",
       "      <td>0.000000</td>\n",
       "      <td>0.000000</td>\n",
       "      <td>0.000000</td>\n",
       "      <td>0.000000</td>\n",
       "      <td>0.0</td>\n",
       "      <td>5.000000</td>\n",
       "      <td>0.000000</td>\n",
       "      <td>0.000000</td>\n",
       "      <td>0.000000</td>\n",
       "      <td>...</td>\n",
       "      <td>0.000000</td>\n",
       "      <td>0.000000</td>\n",
       "      <td>35.000000</td>\n",
       "      <td>0.000000</td>\n",
       "      <td>0.000000</td>\n",
       "      <td>0.000000</td>\n",
       "      <td>0.000000</td>\n",
       "      <td>0.000000</td>\n",
       "      <td>0.000000</td>\n",
       "      <td>1.000000</td>\n",
       "    </tr>\n",
       "    <tr>\n",
       "      <th>50%</th>\n",
       "      <td>38.000000</td>\n",
       "      <td>1.000000</td>\n",
       "      <td>2.000000</td>\n",
       "      <td>0.000000</td>\n",
       "      <td>0.000000</td>\n",
       "      <td>0.0</td>\n",
       "      <td>12.000000</td>\n",
       "      <td>0.000000</td>\n",
       "      <td>0.000000</td>\n",
       "      <td>0.000000</td>\n",
       "      <td>...</td>\n",
       "      <td>1.000000</td>\n",
       "      <td>0.000000</td>\n",
       "      <td>134.000000</td>\n",
       "      <td>0.000000</td>\n",
       "      <td>0.000000</td>\n",
       "      <td>0.000000</td>\n",
       "      <td>0.000000</td>\n",
       "      <td>0.000000</td>\n",
       "      <td>0.000000</td>\n",
       "      <td>5.000000</td>\n",
       "    </tr>\n",
       "    <tr>\n",
       "      <th>75%</th>\n",
       "      <td>98.000000</td>\n",
       "      <td>6.000000</td>\n",
       "      <td>7.000000</td>\n",
       "      <td>1.000000</td>\n",
       "      <td>0.000000</td>\n",
       "      <td>0.0</td>\n",
       "      <td>47.000000</td>\n",
       "      <td>0.000000</td>\n",
       "      <td>0.000000</td>\n",
       "      <td>0.000000</td>\n",
       "      <td>...</td>\n",
       "      <td>4.000000</td>\n",
       "      <td>0.000000</td>\n",
       "      <td>290.000000</td>\n",
       "      <td>0.000000</td>\n",
       "      <td>0.000000</td>\n",
       "      <td>0.000000</td>\n",
       "      <td>0.000000</td>\n",
       "      <td>0.000000</td>\n",
       "      <td>0.000000</td>\n",
       "      <td>29.000000</td>\n",
       "    </tr>\n",
       "    <tr>\n",
       "      <th>max</th>\n",
       "      <td>38808.000000</td>\n",
       "      <td>63782.000000</td>\n",
       "      <td>33145.000000</td>\n",
       "      <td>319.000000</td>\n",
       "      <td>10.000000</td>\n",
       "      <td>0.0</td>\n",
       "      <td>20701.000000</td>\n",
       "      <td>29.000000</td>\n",
       "      <td>17.000000</td>\n",
       "      <td>29.000000</td>\n",
       "      <td>...</td>\n",
       "      <td>1784.000000</td>\n",
       "      <td>19.000000</td>\n",
       "      <td>128637.000000</td>\n",
       "      <td>77.000000</td>\n",
       "      <td>35.000000</td>\n",
       "      <td>51.000000</td>\n",
       "      <td>19.000000</td>\n",
       "      <td>29.000000</td>\n",
       "      <td>79.000000</td>\n",
       "      <td>44649.000000</td>\n",
       "    </tr>\n",
       "  </tbody>\n",
       "</table>\n",
       "<p>8 rows × 30 columns</p>\n",
       "</div>"
      ],
      "text/plain": [
       "                אמת             ג          ודעם            ז           זך  \\\n",
       "count   1213.000000   1213.000000   1213.000000  1213.000000  1213.000000   \n",
       "mean     200.612531    215.210223    464.492993     2.603462     0.158285   \n",
       "std     1326.816330   2551.099158   2159.585435    14.607919     0.832314   \n",
       "min        0.000000      0.000000      0.000000     0.000000     0.000000   \n",
       "25%        9.000000      0.000000      0.000000     0.000000     0.000000   \n",
       "50%       38.000000      1.000000      2.000000     0.000000     0.000000   \n",
       "75%       98.000000      6.000000      7.000000     1.000000     0.000000   \n",
       "max    38808.000000  63782.000000  33145.000000   319.000000    10.000000   \n",
       "\n",
       "           זץ            טב            י           יז           ינ  ...  \\\n",
       "count  1213.0   1213.000000  1213.000000  1213.000000  1213.000000  ...   \n",
       "mean      0.0    175.871393     0.236603     0.234955     0.528442  ...   \n",
       "std       0.0    855.339964     1.566748     1.146108     2.208271  ...   \n",
       "min       0.0      0.000000     0.000000     0.000000     0.000000  ...   \n",
       "25%       0.0      5.000000     0.000000     0.000000     0.000000  ...   \n",
       "50%       0.0     12.000000     0.000000     0.000000     0.000000  ...   \n",
       "75%       0.0     47.000000     0.000000     0.000000     0.000000  ...   \n",
       "max       0.0  20701.000000    29.000000    17.000000    29.000000  ...   \n",
       "\n",
       "                נץ           נק             פה           ףז            ץ  \\\n",
       "count  1213.000000  1213.000000    1213.000000  1213.000000  1213.000000   \n",
       "mean     14.591921     0.474856     925.435284     0.850783     0.459192   \n",
       "std      71.550653     1.747342    5246.613547     4.209450     2.167345   \n",
       "min       0.000000     0.000000       0.000000     0.000000     0.000000   \n",
       "25%       0.000000     0.000000      35.000000     0.000000     0.000000   \n",
       "50%       1.000000     0.000000     134.000000     0.000000     0.000000   \n",
       "75%       4.000000     0.000000     290.000000     0.000000     0.000000   \n",
       "max    1784.000000    19.000000  128637.000000    77.000000    35.000000   \n",
       "\n",
       "                 ק           קי           קך           קץ            שס  \n",
       "count  1213.000000  1213.000000  1213.000000  1213.000000   1213.000000  \n",
       "mean      0.742786     0.342127     0.519373     1.061830    271.713932  \n",
       "std       3.353702     1.505495     2.050677     4.566917   1830.697472  \n",
       "min       0.000000     0.000000     0.000000     0.000000      0.000000  \n",
       "25%       0.000000     0.000000     0.000000     0.000000      1.000000  \n",
       "50%       0.000000     0.000000     0.000000     0.000000      5.000000  \n",
       "75%       0.000000     0.000000     0.000000     0.000000     29.000000  \n",
       "max      51.000000    19.000000    29.000000    79.000000  44649.000000  \n",
       "\n",
       "[8 rows x 30 columns]"
      ]
     },
     "execution_count": 7,
     "metadata": {},
     "output_type": "execute_result"
    }
   ],
   "source": [
    "df_2020.describe()\n"
   ]
  },
  {
   "cell_type": "code",
   "execution_count": 8,
   "metadata": {
    "colab": {
     "base_uri": "https://localhost:8080/",
     "height": 544
    },
    "executionInfo": {
     "elapsed": 744,
     "status": "ok",
     "timestamp": 1603449019812,
     "user": {
      "displayName": "Or Zuk",
      "photoUrl": "https://lh3.googleusercontent.com/a-/AOh14GiW_M7jrZ4Bahr62iPCzlinlcLehvacWX7OaYw5PA=s64",
      "userId": "01571678790529010894"
     },
     "user_tz": -180
    },
    "id": "HeQX7NyNtWaX",
    "outputId": "a2c948b0-9161-4ad0-c9f1-51262fc7a8e9"
   },
   "outputs": [
    {
     "data": {
      "text/plain": [
       "אמת       9\n",
       "ג         0\n",
       "ודעם    264\n",
       "ז         0\n",
       "זך        0\n",
       "זץ        0\n",
       "טב        1\n",
       "י         0\n",
       "יז        0\n",
       "ינ        0\n",
       "יף        0\n",
       "יק        0\n",
       "יר        0\n",
       "כ         0\n",
       "כן        0\n",
       "ל         0\n",
       "מחל       3\n",
       "נ         0\n",
       "נז        0\n",
       "ני        0\n",
       "נץ        0\n",
       "נק        0\n",
       "פה       52\n",
       "ףז        0\n",
       "ץ         2\n",
       "ק         0\n",
       "קי        0\n",
       "קך        0\n",
       "קץ        0\n",
       "שס        0\n",
       "Name: אבו קרינאת יישוב, dtype: int64"
      ]
     },
     "execution_count": 8,
     "metadata": {},
     "output_type": "execute_result"
    }
   ],
   "source": [
    "df_2020.iloc[5]"
   ]
  },
  {
   "cell_type": "code",
   "execution_count": 13,
   "metadata": {
    "colab": {
     "base_uri": "https://localhost:8080/",
     "height": 544
    },
    "executionInfo": {
     "elapsed": 753,
     "status": "ok",
     "timestamp": 1603449022634,
     "user": {
      "displayName": "Or Zuk",
      "photoUrl": "https://lh3.googleusercontent.com/a-/AOh14GiW_M7jrZ4Bahr62iPCzlinlcLehvacWX7OaYw5PA=s64",
      "userId": "01571678790529010894"
     },
     "user_tz": -180
    },
    "id": "vTQRwkFftm8G",
    "outputId": "f2e1263f-f917-42f6-80f1-b987555f120b"
   },
   "outputs": [
    {
     "data": {
      "text/plain": [
       "אמת      4796\n",
       "ג         675\n",
       "ודעם      235\n",
       "ז          58\n",
       "זך          3\n",
       "זץ          0\n",
       "טב       1548\n",
       "י           1\n",
       "יז          1\n",
       "ינ          1\n",
       "יף          3\n",
       "יק          2\n",
       "יר          6\n",
       "כ           7\n",
       "כן          6\n",
       "ל        2301\n",
       "מחל     14894\n",
       "נ          43\n",
       "נז          9\n",
       "ני          2\n",
       "נץ        116\n",
       "נק          2\n",
       "פה      28206\n",
       "ףז         12\n",
       "ץ           4\n",
       "ק           5\n",
       "קי          3\n",
       "קך          3\n",
       "קץ         13\n",
       "שס       1878\n",
       "Name: הרצליה, dtype: int64"
      ]
     },
     "execution_count": 13,
     "metadata": {},
     "output_type": "execute_result"
    }
   ],
   "source": [
    "df_2020.loc['הרצליה']"
   ]
  },
  {
   "cell_type": "markdown",
   "metadata": {
    "id": "EUuZQFD1cd89"
   },
   "source": [
    "Now let's do some plotting"
   ]
  },
  {
   "cell_type": "code",
   "execution_count": 14,
   "metadata": {
    "colab": {
     "base_uri": "https://localhost:8080/",
     "height": 293
    },
    "executionInfo": {
     "elapsed": 1104,
     "status": "ok",
     "timestamp": 1603449025757,
     "user": {
      "displayName": "Or Zuk",
      "photoUrl": "https://lh3.googleusercontent.com/a-/AOh14GiW_M7jrZ4Bahr62iPCzlinlcLehvacWX7OaYw5PA=s64",
      "userId": "01571678790529010894"
     },
     "user_tz": -180
    },
    "id": "870LcQWgv2OB",
    "outputId": "2dcc80da-b24c-40d3-f8ae-3791b0e9901d"
   },
   "outputs": [
    {
     "data": {
      "text/plain": [
       "<AxesSubplot:>"
      ]
     },
     "execution_count": 14,
     "metadata": {},
     "output_type": "execute_result"
    },
    {
     "data": {
      "image/png": "[encoded data removed]",
      "text/plain": [
       "<Figure size 432x288 with 1 Axes>"
      ]
     },
     "metadata": {
      "needs_background": "light"
     },
     "output_type": "display_data"
    }
   ],
   "source": [
    "from matplotlib import pyplot as plt\n",
    "df_2020.loc['הרצליה'].plot.bar()"
   ]
  },
  {
   "cell_type": "code",
   "execution_count": 21,
   "metadata": {
    "colab": {
     "base_uri": "https://localhost:8080/",
     "height": 293
    },
    "executionInfo": {
     "elapsed": 761,
     "status": "ok",
     "timestamp": 1603449028700,
     "user": {
      "displayName": "Or Zuk",
      "photoUrl": "https://lh3.googleusercontent.com/a-/AOh14GiW_M7jrZ4Bahr62iPCzlinlcLehvacWX7OaYw5PA=s64",
      "userId": "01571678790529010894"
     },
     "user_tz": -180
    },
    "id": "aVRVc3qWd_tL",
    "outputId": "210f4672-0cf1-40df-f568-98aeb041b943"
   },
   "outputs": [
    {
     "data": {
      "text/plain": [
       "<AxesSubplot:>"
      ]
     },
     "execution_count": 21,
     "metadata": {},
     "output_type": "execute_result"
    },
    {
     "data": {
      "image/png": "[encoded data removed]",
      "text/plain": [
       "<Figure size 432x288 with 1 Axes>"
      ]
     },
     "metadata": {
      "needs_background": "light"
     },
     "output_type": "display_data"
    }
   ],
   "source": [
    "df_2020.loc['אילת'].plot.bar()"
   ]
  },
  {
   "cell_type": "markdown",
   "metadata": {
    "id": "4uaRGD8JYVk0"
   },
   "source": [
    "Next, we create a function for showing a bar plot of the voting **percentage** in a given city, while showing only the parties above a % threshold "
   ]
  },
  {
   "cell_type": "code",
   "execution_count": 10,
   "metadata": {
    "colab": {
     "base_uri": "https://localhost:8080/",
     "height": 293
    },
    "executionInfo": {
     "elapsed": 937,
     "status": "ok",
     "timestamp": 1603449031462,
     "user": {
      "displayName": "Or Zuk",
      "photoUrl": "https://lh3.googleusercontent.com/a-/AOh14GiW_M7jrZ4Bahr62iPCzlinlcLehvacWX7OaYw5PA=s64",
      "userId": "01571678790529010894"
     },
     "user_tz": -180
    },
    "id": "gvcZSFcX_w49",
    "outputId": "32cbe5ea-0ffc-4a99-f991-31907e7ba3fc"
   },
   "outputs": [
    {
     "data": {
      "text/plain": [
       "<AxesSubplot:>"
      ]
     },
     "execution_count": 10,
     "metadata": {},
     "output_type": "execute_result"
    },
    {
     "data": {
      "image/png": "[encoded data removed]",
      "text/plain": [
       "<Figure size 432x288 with 1 Axes>"
      ]
     },
     "metadata": {
      "needs_background": "light"
     },
     "output_type": "display_data"
    }
   ],
   "source": [
    "# Compute votes share only for parties above a certain threshold \n",
    "\n",
    "total_votes = parties_votes(df_2020, 0.001)  # total votes for each party\n",
    "total_votes.plot.bar()\n",
    "\n"
   ]
  },
  {
   "cell_type": "code",
   "execution_count": 15,
   "metadata": {
    "colab": {
     "base_uri": "https://localhost:8080/",
     "height": 607
    },
    "executionInfo": {
     "elapsed": 1081,
     "status": "ok",
     "timestamp": 1603449042411,
     "user": {
      "displayName": "Or Zuk",
      "photoUrl": "https://lh3.googleusercontent.com/a-/AOh14GiW_M7jrZ4Bahr62iPCzlinlcLehvacWX7OaYw5PA=s64",
      "userId": "01571678790529010894"
     },
     "user_tz": -180
    },
    "id": "nBDU6GHnDCcN",
    "outputId": "4f2f2af2-b5f1-4a9a-cbb7-85870235bdb7"
   },
   "outputs": [
    {
     "data": {
      "image/png": "[encoded data removed]",
      "text/plain": [
       "<Figure size 432x288 with 1 Axes>"
      ]
     },
     "metadata": {
      "needs_background": "light"
     },
     "output_type": "display_data"
    },
    {
     "data": {
      "image/png": "[encoded data removed]",
      "text/plain": [
       "<Figure size 432x288 with 1 Axes>"
      ]
     },
     "metadata": {
      "needs_background": "light"
     },
     "output_type": "display_data"
    },
    {
     "data": {
      "text/plain": [
       "(<Figure size 432x288 with 1 Axes>,\n",
       " <AxesSubplot:title={'center':'Votes percent per party 2019'}, xlabel='Parties Names', ylabel='Votes percent'>)"
      ]
     },
     "execution_count": 15,
     "metadata": {},
     "output_type": "execute_result"
    }
   ],
   "source": [
    "# Bar plot for a party, only showing values above a certain threshold\n",
    "party_bar(df_2020, 0.0325, 'טבריה')\n",
    "party_bar(df_2020, 0.0325, 'ירושלים')"
   ]
  },
  {
   "cell_type": "markdown",
   "metadata": {
    "id": "dV6fkF2wjoNE"
   },
   "source": [
    "Show histogram of number of votes for a party \n"
   ]
  },
  {
   "cell_type": "code",
   "execution_count": 204,
   "metadata": {
    "colab": {
     "base_uri": "https://localhost:8080/",
     "height": 282
    },
    "executionInfo": {
     "elapsed": 1062,
     "status": "ok",
     "timestamp": 1603449048051,
     "user": {
      "displayName": "Or Zuk",
      "photoUrl": "https://lh3.googleusercontent.com/a-/AOh14GiW_M7jrZ4Bahr62iPCzlinlcLehvacWX7OaYw5PA=s64",
      "userId": "01571678790529010894"
     },
     "user_tz": -180
    },
    "id": "uDcXxGBGjslG",
    "outputId": "32d73a6c-0fb5-4efc-8003-70b4d24a9c1f"
   },
   "outputs": [
    {
     "data": {
      "text/plain": [
       "<AxesSubplot:>"
      ]
     },
     "execution_count": 204,
     "metadata": {},
     "output_type": "execute_result"
    },
    {
     "data": {
      "image/png": "[encoded data removed]",
      "text/plain": [
       "<Figure size 432x288 with 1 Axes>"
      ]
     },
     "metadata": {
      "needs_background": "light"
     },
     "output_type": "display_data"
    }
   ],
   "source": [
    "df_2020_raw['כשרים'].hist(bins=100)"
   ]
  },
  {
   "cell_type": "markdown",
   "metadata": {
    "id": "FYSl-OXxfkTP"
   },
   "source": [
    "Find for a party the city with the strongest support"
   ]
  },
  {
   "cell_type": "code",
   "execution_count": 205,
   "metadata": {
    "colab": {
     "base_uri": "https://localhost:8080/",
     "height": 153
    },
    "executionInfo": {
     "elapsed": 708,
     "status": "ok",
     "timestamp": 1603449050413,
     "user": {
      "displayName": "Or Zuk",
      "photoUrl": "https://lh3.googleusercontent.com/a-/AOh14GiW_M7jrZ4Bahr62iPCzlinlcLehvacWX7OaYw5PA=s64",
      "userId": "01571678790529010894"
     },
     "user_tz": -180
    },
    "id": "xMmIS2ZIfsjN",
    "outputId": "ded394aa-6fae-4a23-8f41-e3f4d16d9a5c"
   },
   "outputs": [
    {
     "name": "stdout",
     "output_type": "stream",
     "text": [
      "0.8726591760299626\n",
      "שדי תרומות\n",
      "0.7797927461139896\n",
      "עין יהב\n",
      "0.9672131147540983\n",
      "קוממיות\n",
      "1.0\n",
      "אבו עבדון שבט\n"
     ]
    }
   ],
   "source": [
    "def find_top_city(df, party):\n",
    "\n",
    "  votes_percent_per_city = df.div(df.sum(axis=1), axis=0)\n",
    "  print(votes_percent_per_city[party].max())\n",
    "  print(votes_percent_per_city[party].idxmax())\n",
    "\n",
    "find_top_city(df_2020, 'מחל')\n",
    "find_top_city(df_2020, 'פה')\n",
    "find_top_city(df_2020, 'ג')\n",
    "find_top_city(df_2020, 'ודעם')"
   ]
  },
  {
   "cell_type": "markdown",
   "metadata": {},
   "source": [
    "Next, we want to compare two parties"
   ]
  },
  {
   "cell_type": "code",
   "execution_count": 17,
   "metadata": {},
   "outputs": [
    {
     "data": {
      "image/png": "[encoded data removed]",
      "text/plain": [
       "<Figure size 432x288 with 1 Axes>"
      ]
     },
     "metadata": {
      "needs_background": "light"
     },
     "output_type": "display_data"
    }
   ],
   "source": [
    "two_parties_scatter(df_2020, \"אמת\", \"שס\")"
   ]
  },
  {
   "cell_type": "code",
   "execution_count": 18,
   "metadata": {},
   "outputs": [
    {
     "data": {
      "image/png": "[encoded data removed]",
      "text/plain": [
       "<Figure size 432x288 with 1 Axes>"
      ]
     },
     "metadata": {
      "needs_background": "light"
     },
     "output_type": "display_data"
    }
   ],
   "source": [
    "party_party_scatter(df_2020, \"אמת\", \"שס\")"
   ]
  },
  {
   "cell_type": "code",
   "execution_count": 208,
   "metadata": {},
   "outputs": [
    {
     "data": {
      "image/png": "[encoded data removed]",
      "text/plain": [
       "<Figure size 432x288 with 1 Axes>"
      ]
     },
     "metadata": {
      "needs_background": "light"
     },
     "output_type": "display_data"
    }
   ],
   "source": [
    "two_parties_scatter(df_2020, \"ג\", \"שס\")"
   ]
  },
  {
   "cell_type": "code",
   "execution_count": 87,
   "metadata": {},
   "outputs": [
    {
     "data": {
      "image/png": "[encoded data removed]",
      "text/plain": [
       "<Figure size 432x288 with 1 Axes>"
      ]
     },
     "metadata": {
      "needs_background": "light"
     },
     "output_type": "display_data"
    }
   ],
   "source": [
    "two_parties_scatter(df_2020, \"אמת\", \"פה\")"
   ]
  },
  {
   "cell_type": "code",
   "execution_count": 209,
   "metadata": {},
   "outputs": [
    {
     "data": {
      "text/plain": [
       "שם ישוב\n",
       "אבו גווייעד שבט     0\n",
       "אבו גוש             0\n",
       "אבו סנאן            0\n",
       "אבו עבדון שבט       0\n",
       "אבו קורינאת שבט     0\n",
       "                   ..\n",
       "תקומה               0\n",
       "תקוע                0\n",
       "תראבין אצאנע שבט    0\n",
       "תראבין אצאנעישוב    0\n",
       "תרום                0\n",
       "Length: 1214, dtype: int64"
      ]
     },
     "execution_count": 209,
     "metadata": {},
     "output_type": "execute_result"
    }
   ],
   "source": [
    "# Check sum of eligible votes \n",
    "df_2020.sum(axis=1) - df_2020_raw['כשרים'] "
   ]
  },
  {
   "cell_type": "markdown",
   "metadata": {},
   "source": [
    "Compute pairwise correlations between parties:"
   ]
  },
  {
   "cell_type": "code",
   "execution_count": 211,
   "metadata": {},
   "outputs": [
    {
     "data": {
      "text/plain": [
       "(1214, 30)"
      ]
     },
     "execution_count": 211,
     "metadata": {},
     "output_type": "execute_result"
    }
   ],
   "source": [
    "df_2020.shape"
   ]
  },
  {
   "cell_type": "code",
   "execution_count": 210,
   "metadata": {},
   "outputs": [
    {
     "name": "stdout",
     "output_type": "stream",
     "text": [
      "           אמת         ג      ודעם         ז        זך  זץ        טב  \\\n",
      "אמת   1.000000  0.304462  0.270346  0.875118  0.702850 NaN  0.696774   \n",
      "ג     0.304462  1.000000  0.085095  0.344568  0.362572 NaN  0.556217   \n",
      "ודעם  0.270346  0.085095  1.000000  0.281739  0.336982 NaN  0.218383   \n",
      "ז     0.875118  0.344568  0.281739  1.000000  0.817508 NaN  0.879671   \n",
      "זך    0.702850  0.362572  0.336982  0.817508  1.000000 NaN  0.771325   \n",
      "זץ         NaN       NaN       NaN       NaN       NaN NaN       NaN   \n",
      "טב    0.696774  0.556217  0.218383  0.879671  0.771325 NaN  1.000000   \n",
      "י     0.587854  0.291903  0.221886  0.700717  0.787504 NaN  0.606822   \n",
      "יז    0.745184  0.338655  0.344909  0.941494  0.791830 NaN  0.862904   \n",
      "ינ    0.320324  0.164336  0.867100  0.430977  0.444321 NaN  0.382364   \n",
      "יף    0.587325  0.332086  0.387211  0.675577  0.750056 NaN  0.693018   \n",
      "יק    0.623761  0.593927  0.323269  0.735350  0.780575 NaN  0.806887   \n",
      "יר    0.754937  0.384407  0.353622  0.879396  0.853241 NaN  0.810510   \n",
      "כ     0.687156  0.582873  0.303015  0.852042  0.808226 NaN  0.941070   \n",
      "כן    0.761159  0.349348  0.356624  0.858576  0.873833 NaN  0.779496   \n",
      "ל     0.574818  0.297783  0.181892  0.680828  0.811577 NaN  0.633572   \n",
      "מחל   0.766607  0.447915  0.215532  0.883764  0.876144 NaN  0.873010   \n",
      "נ     0.821225  0.477073  0.259023  0.933500  0.851931 NaN  0.927649   \n",
      "נז    0.773408  0.483230  0.363627  0.901472  0.808865 NaN  0.891463   \n",
      "ני    0.690138  0.485544  0.373603  0.869865  0.842074 NaN  0.872340   \n",
      "נץ    0.693525  0.677435  0.210358  0.837418  0.793708 NaN  0.947927   \n",
      "נק    0.609935  0.280021  0.678462  0.754387  0.760364 NaN  0.683153   \n",
      "פה    0.961585  0.262384  0.242808  0.900434  0.750493 NaN  0.727464   \n",
      "ףז    0.658641  0.304686  0.280357  0.919798  0.709658 NaN  0.839324   \n",
      "ץ     0.785306  0.370626  0.446891  0.889921  0.856292 NaN  0.791973   \n",
      "ק     0.687547  0.283643  0.417370  0.838120  0.871748 NaN  0.737025   \n",
      "קי    0.659054  0.413515  0.492752  0.764548  0.836545 NaN  0.742474   \n",
      "קך    0.667764  0.426663  0.455481  0.817223  0.838074 NaN  0.817020   \n",
      "קץ    0.662697  0.497329  0.445758  0.794137  0.851257 NaN  0.819831   \n",
      "שס    0.560086  0.864382  0.152106  0.645168  0.672958 NaN  0.793682   \n",
      "\n",
      "             י        יז        ינ  ...        נץ        נק        פה  \\\n",
      "אמת   0.587854  0.745184  0.320324  ...  0.693525  0.609935  0.961585   \n",
      "ג     0.291903  0.338655  0.164336  ...  0.677435  0.280021  0.262384   \n",
      "ודעם  0.221886  0.344909  0.867100  ...  0.210358  0.678462  0.242808   \n",
      "ז     0.700717  0.941494  0.430977  ...  0.837418  0.754387  0.900434   \n",
      "זך    0.787504  0.791830  0.444321  ...  0.793708  0.760364  0.750493   \n",
      "זץ         NaN       NaN       NaN  ...       NaN       NaN       NaN   \n",
      "טב    0.606822  0.862904  0.382364  ...  0.947927  0.683153  0.727464   \n",
      "י     1.000000  0.667517  0.324491  ...  0.679713  0.626857  0.686015   \n",
      "יז    0.667517  1.000000  0.518047  ...  0.819281  0.800574  0.780831   \n",
      "ינ    0.324491  0.518047  1.000000  ...  0.371013  0.763437  0.316739   \n",
      "יף    0.647020  0.668152  0.479675  ...  0.685831  0.729268  0.674850   \n",
      "יק    0.679881  0.729950  0.453077  ...  0.859779  0.688216  0.645418   \n",
      "יר    0.803067  0.847057  0.487359  ...  0.826709  0.765193  0.816138   \n",
      "כ     0.661572  0.835364  0.464794  ...  0.939185  0.726806  0.706204   \n",
      "כן    0.850532  0.817393  0.474417  ...  0.802285  0.787922  0.847559   \n",
      "ל     0.856944  0.660661  0.300373  ...  0.694423  0.629963  0.706878   \n",
      "מחל   0.834915  0.837005  0.363638  ...  0.910328  0.725073  0.851207   \n",
      "נ     0.767280  0.881470  0.405264  ...  0.924018  0.745042  0.874586   \n",
      "נז    0.697507  0.875314  0.512909  ...  0.895697  0.799503  0.815680   \n",
      "ני    0.717577  0.865844  0.531860  ...  0.883287  0.792285  0.735301   \n",
      "נץ    0.679713  0.819281  0.371013  ...  1.000000  0.676323  0.716763   \n",
      "נק    0.626857  0.800574  0.763437  ...  0.676323  1.000000  0.647480   \n",
      "פה    0.686015  0.780831  0.316739  ...  0.716763  0.647480  1.000000   \n",
      "ףז    0.556299  0.926998  0.469143  ...  0.760525  0.724631  0.677537   \n",
      "ץ     0.767720  0.861457  0.556241  ...  0.794622  0.834496  0.842606   \n",
      "ק     0.854496  0.836833  0.537272  ...  0.762464  0.813736  0.771208   \n",
      "קי    0.801389  0.785209  0.573449  ...  0.791369  0.802717  0.710123   \n",
      "קך    0.747983  0.812601  0.577628  ...  0.838696  0.819681  0.737109   \n",
      "קץ    0.816404  0.793881  0.546309  ...  0.868765  0.806959  0.713118   \n",
      "שס    0.588981  0.620011  0.284883  ...  0.907234  0.544033  0.568255   \n",
      "\n",
      "            ףז         ץ         ק        קי        קך        קץ        שס  \n",
      "אמת   0.658641  0.785306  0.687547  0.659054  0.667764  0.662697  0.560086  \n",
      "ג     0.304686  0.370626  0.283643  0.413515  0.426663  0.497329  0.864382  \n",
      "ודעם  0.280357  0.446891  0.417370  0.492752  0.455481  0.445758  0.152106  \n",
      "ז     0.919798  0.889921  0.838120  0.764548  0.817223  0.794137  0.645168  \n",
      "זך    0.709658  0.856292  0.871748  0.836545  0.838074  0.851257  0.672958  \n",
      "זץ         NaN       NaN       NaN       NaN       NaN       NaN       NaN  \n",
      "טב    0.839324  0.791973  0.737025  0.742474  0.817020  0.819831  0.793682  \n",
      "י     0.556299  0.767720  0.854496  0.801389  0.747983  0.816404  0.588981  \n",
      "יז    0.926998  0.861457  0.836833  0.785209  0.812601  0.793881  0.620011  \n",
      "ינ    0.469143  0.556241  0.537272  0.573449  0.577628  0.546309  0.284883  \n",
      "יף    0.533851  0.814189  0.786936  0.753154  0.788210  0.786660  0.600828  \n",
      "יק    0.640956  0.785555  0.778756  0.794293  0.833430  0.855503  0.777859  \n",
      "יר    0.777354  0.897290  0.893976  0.858192  0.847369  0.849431  0.691781  \n",
      "כ     0.805878  0.808887  0.788753  0.802014  0.861414  0.872323  0.822132  \n",
      "כן    0.708790  0.935853  0.936581  0.878446  0.882039  0.887051  0.684679  \n",
      "ל     0.510546  0.820982  0.862579  0.786124  0.767683  0.775494  0.631308  \n",
      "מחל   0.738223  0.886883  0.889571  0.854817  0.885487  0.887388  0.796311  \n",
      "נ     0.808902  0.894259  0.860783  0.836208  0.878667  0.885652  0.784965  \n",
      "נז    0.809414  0.901305  0.857744  0.836858  0.883408  0.872565  0.765951  \n",
      "ני    0.817473  0.893859  0.862500  0.849298  0.893212  0.879019  0.764266  \n",
      "נץ    0.760525  0.794622  0.762464  0.791369  0.838696  0.868765  0.907234  \n",
      "נק    0.724631  0.834496  0.813736  0.802717  0.819681  0.806959  0.544033  \n",
      "פה    0.677537  0.842606  0.771208  0.710123  0.737109  0.713118  0.568255  \n",
      "ףז    1.000000  0.774493  0.735008  0.651643  0.733250  0.687906  0.552211  \n",
      "ץ     0.774493  1.000000  0.903420  0.857648  0.865121  0.863302  0.674107  \n",
      "ק     0.735008  0.903420  1.000000  0.891568  0.890034  0.880846  0.608587  \n",
      "קי    0.651643  0.857648  0.891568  1.000000  0.866471  0.900328  0.694787  \n",
      "קך    0.733250  0.865121  0.890034  0.866471  1.000000  0.905032  0.716860  \n",
      "קץ    0.687906  0.863302  0.880846  0.900328  0.905032  1.000000  0.761175  \n",
      "שס    0.552211  0.674107  0.608587  0.694787  0.716860  0.761175  1.000000  \n",
      "\n",
      "[30 rows x 30 columns]\n"
     ]
    }
   ],
   "source": [
    "parties_corr = df_2020.corr()\n",
    "print(parties_corr)"
   ]
  },
  {
   "cell_type": "markdown",
   "metadata": {},
   "source": [
    "Show heatmap of the correlation matrix: \n"
   ]
  },
  {
   "cell_type": "code",
   "execution_count": 212,
   "metadata": {},
   "outputs": [
    {
     "data": {
      "image/png": "[encoded data removed]",
      "text/plain": [
       "<Figure size 432x288 with 2 Axes>"
      ]
     },
     "metadata": {
      "needs_background": "light"
     },
     "output_type": "display_data"
    }
   ],
   "source": [
    "# need to extract only top 8 parties \n",
    "heatmap_corr(parties_corr, list(parties_corr.columns))"
   ]
  },
  {
   "cell_type": "markdown",
   "metadata": {},
   "source": [
    "Create a dictionary mapping parties names to voting letters"
   ]
  },
  {
   "cell_type": "code",
   "execution_count": 213,
   "metadata": {},
   "outputs": [
    {
     "name": "stdout",
     "output_type": "stream",
     "text": [
      "ימינה\n",
      "יהדות התורה\n",
      "הרשימה המשותפת\n"
     ]
    }
   ],
   "source": [
    "parties_dict_2020 ={'אמת' : \"עבודה גשר מרצ\", 'ג' : \"יהדות התורה\", 'ודעם'  : \"הרשימה המשותפת\", 'טב'  : \"ימינה\", 'נץ'  : \"עוצמה יהודית\",\n",
    " 'ל'  : \"ישראל ביתנו\", 'מחל'  : \"הליכוד\",  'פה'  : \"כחול לבן\", 'שס'  : \"שס\"}\n",
    "print(parties_dict_2020[\"טב\"])\n",
    "print(parties_dict_2020[\"ג\"])\n",
    "print(parties_dict_2020[\"ודעם\"])\n"
   ]
  },
  {
   "cell_type": "markdown",
   "metadata": {},
   "source": [
    "Read the election results by ballot (not city)"
   ]
  },
  {
   "cell_type": "code",
   "execution_count": 214,
   "metadata": {},
   "outputs": [
    {
     "data": {
      "text/html": [
       "<div>\n",
       "<style scoped>\n",
       "    .dataframe tbody tr th:only-of-type {\n",
       "        vertical-align: middle;\n",
       "    }\n",
       "\n",
       "    .dataframe tbody tr th {\n",
       "        vertical-align: top;\n",
       "    }\n",
       "\n",
       "    .dataframe thead th {\n",
       "        text-align: right;\n",
       "    }\n",
       "</style>\n",
       "<table border=\"1\" class=\"dataframe\">\n",
       "  <thead>\n",
       "    <tr style=\"text-align: right;\">\n",
       "      <th></th>\n",
       "      <th>סמל ועדה</th>\n",
       "      <th>ברזל</th>\n",
       "      <th>סמל ישוב</th>\n",
       "      <th>קלפי</th>\n",
       "      <th>ריכוז</th>\n",
       "      <th>שופט</th>\n",
       "      <th>בזב</th>\n",
       "      <th>מצביעים</th>\n",
       "      <th>פסולים</th>\n",
       "      <th>כשרים</th>\n",
       "      <th>...</th>\n",
       "      <th>נק</th>\n",
       "      <th>פה</th>\n",
       "      <th>ףז</th>\n",
       "      <th>ץ</th>\n",
       "      <th>ק</th>\n",
       "      <th>קי</th>\n",
       "      <th>קך</th>\n",
       "      <th>קץ</th>\n",
       "      <th>שס</th>\n",
       "      <th>Unnamed: 41</th>\n",
       "    </tr>\n",
       "    <tr>\n",
       "      <th>שם ישוב</th>\n",
       "      <th></th>\n",
       "      <th></th>\n",
       "      <th></th>\n",
       "      <th></th>\n",
       "      <th></th>\n",
       "      <th></th>\n",
       "      <th></th>\n",
       "      <th></th>\n",
       "      <th></th>\n",
       "      <th></th>\n",
       "      <th></th>\n",
       "      <th></th>\n",
       "      <th></th>\n",
       "      <th></th>\n",
       "      <th></th>\n",
       "      <th></th>\n",
       "      <th></th>\n",
       "      <th></th>\n",
       "      <th></th>\n",
       "      <th></th>\n",
       "      <th></th>\n",
       "    </tr>\n",
       "  </thead>\n",
       "  <tbody>\n",
       "    <tr>\n",
       "      <th>אבו גווייעד שבט</th>\n",
       "      <td>18</td>\n",
       "      <td>9870</td>\n",
       "      <td>967</td>\n",
       "      <td>1.0</td>\n",
       "      <td>1</td>\n",
       "      <td>0</td>\n",
       "      <td>585</td>\n",
       "      <td>126</td>\n",
       "      <td>2</td>\n",
       "      <td>124</td>\n",
       "      <td>...</td>\n",
       "      <td>0</td>\n",
       "      <td>6</td>\n",
       "      <td>1</td>\n",
       "      <td>0</td>\n",
       "      <td>0</td>\n",
       "      <td>0</td>\n",
       "      <td>0</td>\n",
       "      <td>0</td>\n",
       "      <td>2</td>\n",
       "      <td>NaN</td>\n",
       "    </tr>\n",
       "    <tr>\n",
       "      <th>אבו גווייעד שבט</th>\n",
       "      <td>18</td>\n",
       "      <td>9871</td>\n",
       "      <td>967</td>\n",
       "      <td>2.0</td>\n",
       "      <td>1</td>\n",
       "      <td>0</td>\n",
       "      <td>764</td>\n",
       "      <td>249</td>\n",
       "      <td>2</td>\n",
       "      <td>247</td>\n",
       "      <td>...</td>\n",
       "      <td>0</td>\n",
       "      <td>0</td>\n",
       "      <td>0</td>\n",
       "      <td>0</td>\n",
       "      <td>0</td>\n",
       "      <td>0</td>\n",
       "      <td>0</td>\n",
       "      <td>2</td>\n",
       "      <td>0</td>\n",
       "      <td>NaN</td>\n",
       "    </tr>\n",
       "    <tr>\n",
       "      <th>אבו גווייעד שבט</th>\n",
       "      <td>18</td>\n",
       "      <td>9872</td>\n",
       "      <td>967</td>\n",
       "      <td>3.0</td>\n",
       "      <td>1</td>\n",
       "      <td>0</td>\n",
       "      <td>669</td>\n",
       "      <td>220</td>\n",
       "      <td>2</td>\n",
       "      <td>218</td>\n",
       "      <td>...</td>\n",
       "      <td>0</td>\n",
       "      <td>2</td>\n",
       "      <td>1</td>\n",
       "      <td>0</td>\n",
       "      <td>0</td>\n",
       "      <td>0</td>\n",
       "      <td>0</td>\n",
       "      <td>0</td>\n",
       "      <td>0</td>\n",
       "      <td>NaN</td>\n",
       "    </tr>\n",
       "    <tr>\n",
       "      <th>אבו גוש</th>\n",
       "      <td>2</td>\n",
       "      <td>736</td>\n",
       "      <td>472</td>\n",
       "      <td>1.0</td>\n",
       "      <td>1</td>\n",
       "      <td>0</td>\n",
       "      <td>530</td>\n",
       "      <td>299</td>\n",
       "      <td>7</td>\n",
       "      <td>292</td>\n",
       "      <td>...</td>\n",
       "      <td>0</td>\n",
       "      <td>11</td>\n",
       "      <td>0</td>\n",
       "      <td>0</td>\n",
       "      <td>0</td>\n",
       "      <td>0</td>\n",
       "      <td>0</td>\n",
       "      <td>0</td>\n",
       "      <td>2</td>\n",
       "      <td>NaN</td>\n",
       "    </tr>\n",
       "    <tr>\n",
       "      <th>אבו גוש</th>\n",
       "      <td>2</td>\n",
       "      <td>737</td>\n",
       "      <td>472</td>\n",
       "      <td>2.0</td>\n",
       "      <td>1</td>\n",
       "      <td>0</td>\n",
       "      <td>693</td>\n",
       "      <td>388</td>\n",
       "      <td>6</td>\n",
       "      <td>382</td>\n",
       "      <td>...</td>\n",
       "      <td>0</td>\n",
       "      <td>18</td>\n",
       "      <td>0</td>\n",
       "      <td>0</td>\n",
       "      <td>0</td>\n",
       "      <td>0</td>\n",
       "      <td>0</td>\n",
       "      <td>1</td>\n",
       "      <td>0</td>\n",
       "      <td>NaN</td>\n",
       "    </tr>\n",
       "  </tbody>\n",
       "</table>\n",
       "<p>5 rows × 41 columns</p>\n",
       "</div>"
      ],
      "text/plain": [
       "                 סמל ועדה  ברזל  סמל ישוב  קלפי  ריכוז  שופט  בזב  מצביעים  \\\n",
       "שם ישוב                                                                      \n",
       "אבו גווייעד שבט        18  9870       967   1.0      1     0  585      126   \n",
       "אבו גווייעד שבט        18  9871       967   2.0      1     0  764      249   \n",
       "אבו גווייעד שבט        18  9872       967   3.0      1     0  669      220   \n",
       "אבו גוש                 2   736       472   1.0      1     0  530      299   \n",
       "אבו גוש                 2   737       472   2.0      1     0  693      388   \n",
       "\n",
       "                 פסולים  כשרים  ...  נק  פה  ףז  ץ  ק  קי  קך  קץ  שס  \\\n",
       "שם ישוב                         ...                                     \n",
       "אבו גווייעד שבט       2    124  ...   0   6   1  0  0   0   0   0   2   \n",
       "אבו גווייעד שבט       2    247  ...   0   0   0  0  0   0   0   2   0   \n",
       "אבו גווייעד שבט       2    218  ...   0   2   1  0  0   0   0   0   0   \n",
       "אבו גוש               7    292  ...   0  11   0  0  0   0   0   0   2   \n",
       "אבו גוש               6    382  ...   0  18   0  0  0   0   0   1   0   \n",
       "\n",
       "                 Unnamed: 41  \n",
       "שם ישוב                       \n",
       "אבו גווייעד שבט          NaN  \n",
       "אבו גווייעד שבט          NaN  \n",
       "אבו גווייעד שבט          NaN  \n",
       "אבו גוש                  NaN  \n",
       "אבו גוש                  NaN  \n",
       "\n",
       "[5 rows x 41 columns]"
      ]
     },
     "execution_count": 214,
     "metadata": {},
     "output_type": "execute_result"
    }
   ],
   "source": [
    "df_2020_ballots_raw = pd.read_csv(data_path + 'votes per ballot 2020.csv',  encoding = 'iso-8859-8', index_col='שם ישוב')\n",
    "df_2020_ballots_raw.head()"
   ]
  },
  {
   "cell_type": "code",
   "execution_count": 28,
   "metadata": {},
   "outputs": [
    {
     "data": {
      "text/html": [
       "<div>\n",
       "<style scoped>\n",
       "    .dataframe tbody tr th:only-of-type {\n",
       "        vertical-align: middle;\n",
       "    }\n",
       "\n",
       "    .dataframe tbody tr th {\n",
       "        vertical-align: top;\n",
       "    }\n",
       "\n",
       "    .dataframe thead th {\n",
       "        text-align: right;\n",
       "    }\n",
       "</style>\n",
       "<table border=\"1\" class=\"dataframe\">\n",
       "  <thead>\n",
       "    <tr style=\"text-align: right;\">\n",
       "      <th></th>\n",
       "      <th>כשרים</th>\n",
       "      <th>אמת</th>\n",
       "      <th>ג</th>\n",
       "      <th>ודעם</th>\n",
       "      <th>ז</th>\n",
       "      <th>זך</th>\n",
       "      <th>זץ</th>\n",
       "      <th>טב</th>\n",
       "      <th>י</th>\n",
       "      <th>יז</th>\n",
       "      <th>...</th>\n",
       "      <th>נץ</th>\n",
       "      <th>נק</th>\n",
       "      <th>פה</th>\n",
       "      <th>ףז</th>\n",
       "      <th>ץ</th>\n",
       "      <th>ק</th>\n",
       "      <th>קי</th>\n",
       "      <th>קך</th>\n",
       "      <th>קץ</th>\n",
       "      <th>שס</th>\n",
       "    </tr>\n",
       "    <tr>\n",
       "      <th>שם ישוב</th>\n",
       "      <th></th>\n",
       "      <th></th>\n",
       "      <th></th>\n",
       "      <th></th>\n",
       "      <th></th>\n",
       "      <th></th>\n",
       "      <th></th>\n",
       "      <th></th>\n",
       "      <th></th>\n",
       "      <th></th>\n",
       "      <th></th>\n",
       "      <th></th>\n",
       "      <th></th>\n",
       "      <th></th>\n",
       "      <th></th>\n",
       "      <th></th>\n",
       "      <th></th>\n",
       "      <th></th>\n",
       "      <th></th>\n",
       "      <th></th>\n",
       "      <th></th>\n",
       "    </tr>\n",
       "  </thead>\n",
       "  <tbody>\n",
       "    <tr>\n",
       "      <th>אבו גווייעד שבט</th>\n",
       "      <td>124</td>\n",
       "      <td>2</td>\n",
       "      <td>0</td>\n",
       "      <td>112</td>\n",
       "      <td>0</td>\n",
       "      <td>0</td>\n",
       "      <td>0</td>\n",
       "      <td>0</td>\n",
       "      <td>0</td>\n",
       "      <td>0</td>\n",
       "      <td>...</td>\n",
       "      <td>0</td>\n",
       "      <td>0</td>\n",
       "      <td>6</td>\n",
       "      <td>1</td>\n",
       "      <td>0</td>\n",
       "      <td>0</td>\n",
       "      <td>0</td>\n",
       "      <td>0</td>\n",
       "      <td>0</td>\n",
       "      <td>2</td>\n",
       "    </tr>\n",
       "    <tr>\n",
       "      <th>אבו גווייעד שבט</th>\n",
       "      <td>247</td>\n",
       "      <td>6</td>\n",
       "      <td>0</td>\n",
       "      <td>235</td>\n",
       "      <td>0</td>\n",
       "      <td>0</td>\n",
       "      <td>0</td>\n",
       "      <td>0</td>\n",
       "      <td>0</td>\n",
       "      <td>0</td>\n",
       "      <td>...</td>\n",
       "      <td>0</td>\n",
       "      <td>0</td>\n",
       "      <td>0</td>\n",
       "      <td>0</td>\n",
       "      <td>0</td>\n",
       "      <td>0</td>\n",
       "      <td>0</td>\n",
       "      <td>0</td>\n",
       "      <td>2</td>\n",
       "      <td>0</td>\n",
       "    </tr>\n",
       "    <tr>\n",
       "      <th>אבו גווייעד שבט</th>\n",
       "      <td>218</td>\n",
       "      <td>5</td>\n",
       "      <td>0</td>\n",
       "      <td>207</td>\n",
       "      <td>0</td>\n",
       "      <td>0</td>\n",
       "      <td>0</td>\n",
       "      <td>0</td>\n",
       "      <td>0</td>\n",
       "      <td>1</td>\n",
       "      <td>...</td>\n",
       "      <td>0</td>\n",
       "      <td>0</td>\n",
       "      <td>2</td>\n",
       "      <td>1</td>\n",
       "      <td>0</td>\n",
       "      <td>0</td>\n",
       "      <td>0</td>\n",
       "      <td>0</td>\n",
       "      <td>0</td>\n",
       "      <td>0</td>\n",
       "    </tr>\n",
       "    <tr>\n",
       "      <th>אבו גוש</th>\n",
       "      <td>292</td>\n",
       "      <td>15</td>\n",
       "      <td>1</td>\n",
       "      <td>229</td>\n",
       "      <td>0</td>\n",
       "      <td>0</td>\n",
       "      <td>0</td>\n",
       "      <td>0</td>\n",
       "      <td>0</td>\n",
       "      <td>0</td>\n",
       "      <td>...</td>\n",
       "      <td>0</td>\n",
       "      <td>0</td>\n",
       "      <td>11</td>\n",
       "      <td>0</td>\n",
       "      <td>0</td>\n",
       "      <td>0</td>\n",
       "      <td>0</td>\n",
       "      <td>0</td>\n",
       "      <td>0</td>\n",
       "      <td>2</td>\n",
       "    </tr>\n",
       "    <tr>\n",
       "      <th>אבו גוש</th>\n",
       "      <td>382</td>\n",
       "      <td>6</td>\n",
       "      <td>0</td>\n",
       "      <td>330</td>\n",
       "      <td>0</td>\n",
       "      <td>0</td>\n",
       "      <td>0</td>\n",
       "      <td>0</td>\n",
       "      <td>0</td>\n",
       "      <td>0</td>\n",
       "      <td>...</td>\n",
       "      <td>0</td>\n",
       "      <td>0</td>\n",
       "      <td>18</td>\n",
       "      <td>0</td>\n",
       "      <td>0</td>\n",
       "      <td>0</td>\n",
       "      <td>0</td>\n",
       "      <td>0</td>\n",
       "      <td>1</td>\n",
       "      <td>0</td>\n",
       "    </tr>\n",
       "  </tbody>\n",
       "</table>\n",
       "<p>5 rows × 31 columns</p>\n",
       "</div>"
      ],
      "text/plain": [
       "                 כשרים  אמת  ג  ודעם  ז  זך  זץ  טב  י  יז  ...  נץ  נק  פה  \\\n",
       "שם ישוב                                                     ...               \n",
       "אבו גווייעד שבט    124    2  0   112  0   0   0   0  0   0  ...   0   0   6   \n",
       "אבו גווייעד שבט    247    6  0   235  0   0   0   0  0   0  ...   0   0   0   \n",
       "אבו גווייעד שבט    218    5  0   207  0   0   0   0  0   1  ...   0   0   2   \n",
       "אבו גוש            292   15  1   229  0   0   0   0  0   0  ...   0   0  11   \n",
       "אבו גוש            382    6  0   330  0   0   0   0  0   0  ...   0   0  18   \n",
       "\n",
       "                 ףז  ץ  ק  קי  קך  קץ  שס  \n",
       "שם ישוב                                    \n",
       "אבו גווייעד שבט   1  0  0   0   0   0   2  \n",
       "אבו גווייעד שבט   0  0  0   0   0   2   0  \n",
       "אבו גווייעד שבט   1  0  0   0   0   0   0  \n",
       "אבו גוש           0  0  0   0   0   0   2  \n",
       "אבו גוש           0  0  0   0   0   1   0  \n",
       "\n",
       "[5 rows x 31 columns]"
      ]
     },
     "execution_count": 28,
     "metadata": {},
     "output_type": "execute_result"
    }
   ],
   "source": [
    "df_2020_ballots = df_2020_ballots_raw.drop('סמל ועדה', axis=1) # new column added in Sep 2019\n",
    "df_2020_ballots = df_2020_ballots[df_2020_ballots.columns[8:-1]] # removing \"metadata\" columns\n",
    "df_2020_ballots.head()"
   ]
  },
  {
   "cell_type": "code",
   "execution_count": 215,
   "metadata": {},
   "outputs": [
    {
     "data": {
      "text/plain": [
       "<AxesSubplot:>"
      ]
     },
     "execution_count": 215,
     "metadata": {},
     "output_type": "execute_result"
    },
    {
     "data": {
      "image/png": "[encoded data removed]",
      "text/plain": [
       "<Figure size 432x288 with 1 Axes>"
      ]
     },
     "metadata": {
      "needs_background": "light"
     },
     "output_type": "display_data"
    }
   ],
   "source": [
    "df_2020_ballots_raw['כשרים'].hist(bins=100)"
   ]
  },
  {
   "cell_type": "code",
   "execution_count": 217,
   "metadata": {},
   "outputs": [
    {
     "data": {
      "text/plain": [
       "(11179, 41)"
      ]
     },
     "execution_count": 217,
     "metadata": {},
     "output_type": "execute_result"
    }
   ],
   "source": [
    "df_2020_ballots_raw.shape"
   ]
  },
  {
   "cell_type": "code",
   "execution_count": 216,
   "metadata": {},
   "outputs": [
    {
     "data": {
      "text/plain": [
       "68137.6042241237"
      ]
     },
     "execution_count": 216,
     "metadata": {},
     "output_type": "execute_result"
    }
   ],
   "source": [
    "51922 * 111344 / 84846"
   ]
  },
  {
   "cell_type": "markdown",
   "metadata": {},
   "source": [
    "A small example showing both corrections:\n",
    "2 parties, with 3 cities. Two different models of voting turnout. Can we correct for them? \n",
    "i. Suppose turnout for cities is: party D is 70%, 100%, 50%\n",
    "ii. Suppose turnout for party D is V_D=100% and turnout for party R is V_R=50%. "
   ]
  },
  {
   "cell_type": "code",
   "execution_count": 220,
   "metadata": {},
   "outputs": [],
   "source": [
    "import statsmodels.api as sm  # a module for statistical modelling (e.g. regression analysis)\n",
    "N_tilde = pd.DataFrame(np.array([[10, 10], [20, 10], [10, 20]]),\n",
    "                   columns=['D', 'R'])\n",
    "\n"
   ]
  },
  {
   "cell_type": "code",
   "execution_count": 221,
   "metadata": {},
   "outputs": [
    {
     "name": "stdout",
     "output_type": "stream",
     "text": [
      "Population:\n",
      "D    0.5\n",
      "R    0.5\n",
      "dtype: float64\n",
      "Election:\n",
      "D    0.542373\n",
      "R    0.457627\n",
      "dtype: float64\n",
      "Turnout by city:\n",
      "0    0.7\n",
      "1    1.0\n",
      "2    0.5\n",
      "dtype: float64\n",
      "Correction 1:\n",
      "D    0.5\n",
      "R    0.5\n",
      "dtype: float64\n"
     ]
    }
   ],
   "source": [
    "# Suppose voting turnout is by city: 70%, 100%, 50% \n",
    "N = pd.DataFrame(np.array([[7, 7], [20, 10], [5, 10]]),\n",
    "                   columns=['D', 'R'])\n",
    "q = N_tilde.sum() / N_tilde.sum().sum()\n",
    "print(\"Population:\")\n",
    "print(q)\n",
    "p = N.sum() / N.sum().sum()\n",
    "print(\"Election:\")\n",
    "print(p)\n",
    "v = N.sum(axis=1) / N_tilde.sum(axis=1)\n",
    "print(\"Turnout by city:\")\n",
    "print(v)\n",
    "p, q_hat = simple_turnout_correction(N, v)\n",
    "print(\"Correction 1:\")\n",
    "print(q_hat)\n",
    "\n"
   ]
  },
  {
   "cell_type": "code",
   "execution_count": 222,
   "metadata": {},
   "outputs": [
    {
     "name": "stdout",
     "output_type": "stream",
     "text": [
      "Population:\n",
      "D    0.5\n",
      "R    0.5\n",
      "dtype: float64\n",
      "Election:\n",
      "D    0.666667\n",
      "R    0.333333\n",
      "dtype: float64\n",
      "Turnout by city:\n",
      "0    0.750000\n",
      "1    0.833333\n",
      "2    0.666667\n",
      "dtype: float64\n",
      "Correction 1:\n",
      "D    0.654167\n",
      "R    0.345833\n",
      "dtype: float64\n"
     ]
    }
   ],
   "source": [
    "# Suppose voting turnout is by party: (D: 100%, R: 50%)\n",
    "N = pd.DataFrame(np.array([[10, 5], [20, 5], [10, 10]]),\n",
    "                   columns=['D', 'R'])\n",
    "q = N_tilde.sum() / N_tilde.sum().sum()\n",
    "print(\"Population:\")\n",
    "print(q)\n",
    "p = N.sum() / N.sum().sum()\n",
    "print(\"Election:\")\n",
    "print(p)\n",
    "v = N.sum(axis=1) / N_tilde.sum(axis=1)\n",
    "print(\"Turnout by city:\")\n",
    "print(v)\n",
    "p, q_hat = simple_turnout_correction(N, v)\n",
    "print(\"Correction 1:\")\n",
    "print(q_hat)\n",
    "\n"
   ]
  },
  {
   "cell_type": "code",
   "execution_count": 224,
   "metadata": {},
   "outputs": [],
   "source": [
    "# Run turnout corrections: \n",
    "turnout = df_2020_raw['כשרים'] / df_2020_raw['בזב']\n",
    "p,q_hat = simple_turnout_correction(df_2020, turnout)\n",
    "#print(p)\n",
    "#print(q_hat)"
   ]
  },
  {
   "cell_type": "markdown",
   "metadata": {},
   "source": [
    "Read data for socio economic status"
   ]
  },
  {
   "cell_type": "code",
   "execution_count": 225,
   "metadata": {},
   "outputs": [
    {
     "data": {
      "text/html": [
       "<div>\n",
       "<style scoped>\n",
       "    .dataframe tbody tr th:only-of-type {\n",
       "        vertical-align: middle;\n",
       "    }\n",
       "\n",
       "    .dataframe tbody tr th {\n",
       "        vertical-align: top;\n",
       "    }\n",
       "\n",
       "    .dataframe thead th {\n",
       "        text-align: right;\n",
       "    }\n",
       "</style>\n",
       "<table border=\"1\" class=\"dataframe\">\n",
       "  <thead>\n",
       "    <tr style=\"text-align: right;\">\n",
       "      <th></th>\n",
       "      <th>סוג רשות</th>\n",
       "      <th>מחוז</th>\n",
       "      <th>דירוג</th>\n",
       "      <th>אוכלוסייה[1]</th>\n",
       "      <th>דירוג.1</th>\n",
       "      <th>שטח שיפוט</th>\n",
       "      <th>דירוג.2</th>\n",
       "      <th>צפיפות[2]</th>\n",
       "      <th>דירוג.3</th>\n",
       "      <th>מדד ג'יני[2]</th>\n",
       "      <th>מדד חברתי-</th>\n",
       "      <th>דירוג.4</th>\n",
       "      <th>מספר יישובים</th>\n",
       "    </tr>\n",
       "    <tr>\n",
       "      <th>רשות מקומית</th>\n",
       "      <th></th>\n",
       "      <th></th>\n",
       "      <th></th>\n",
       "      <th></th>\n",
       "      <th></th>\n",
       "      <th></th>\n",
       "      <th></th>\n",
       "      <th></th>\n",
       "      <th></th>\n",
       "      <th></th>\n",
       "      <th></th>\n",
       "      <th></th>\n",
       "      <th></th>\n",
       "    </tr>\n",
       "  </thead>\n",
       "  <tbody>\n",
       "    <tr>\n",
       "      <th>אבו גוש</th>\n",
       "      <td>מועצה מקומית</td>\n",
       "      <td>ירושלים</td>\n",
       "      <td>196</td>\n",
       "      <td>7,543</td>\n",
       "      <td>237</td>\n",
       "      <td>1,900</td>\n",
       "      <td>48</td>\n",
       "      <td>3,842</td>\n",
       "      <td>245</td>\n",
       "      <td>0.3402</td>\n",
       "      <td>3</td>\n",
       "      <td>NaN</td>\n",
       "      <td>NaN</td>\n",
       "    </tr>\n",
       "    <tr>\n",
       "      <th>אבו סנאן</th>\n",
       "      <td>מועצה מקומית</td>\n",
       "      <td>הצפון</td>\n",
       "      <td>132</td>\n",
       "      <td>13,915</td>\n",
       "      <td>169</td>\n",
       "      <td>6,660</td>\n",
       "      <td>108</td>\n",
       "      <td>2,057</td>\n",
       "      <td>181</td>\n",
       "      <td>0.3799</td>\n",
       "      <td>3</td>\n",
       "      <td>NaN</td>\n",
       "      <td>NaN</td>\n",
       "    </tr>\n",
       "    <tr>\n",
       "      <th>אבן יהודה</th>\n",
       "      <td>מועצה מקומית</td>\n",
       "      <td>המרכז</td>\n",
       "      <td>132</td>\n",
       "      <td>13,700</td>\n",
       "      <td>148</td>\n",
       "      <td>8,250</td>\n",
       "      <td>136</td>\n",
       "      <td>1,661</td>\n",
       "      <td>6</td>\n",
       "      <td>0.4987</td>\n",
       "      <td>8</td>\n",
       "      <td>NaN</td>\n",
       "      <td>NaN</td>\n",
       "    </tr>\n",
       "    <tr>\n",
       "      <th>אום אל-פחם</th>\n",
       "      <td>עירייה</td>\n",
       "      <td>חיפה</td>\n",
       "      <td>33</td>\n",
       "      <td>55,182</td>\n",
       "      <td>71</td>\n",
       "      <td>26,060</td>\n",
       "      <td>105</td>\n",
       "      <td>2,080</td>\n",
       "      <td>168</td>\n",
       "      <td>0.3846</td>\n",
       "      <td>2</td>\n",
       "      <td>NaN</td>\n",
       "      <td>NaN</td>\n",
       "    </tr>\n",
       "    <tr>\n",
       "      <th>אופקים</th>\n",
       "      <td>עירייה</td>\n",
       "      <td>הדרום</td>\n",
       "      <td>70</td>\n",
       "      <td>29,021</td>\n",
       "      <td>124</td>\n",
       "      <td>10,240</td>\n",
       "      <td>77</td>\n",
       "      <td>2,715</td>\n",
       "      <td>181</td>\n",
       "      <td>0.3799</td>\n",
       "      <td>3</td>\n",
       "      <td>NaN</td>\n",
       "      <td>NaN</td>\n",
       "    </tr>\n",
       "  </tbody>\n",
       "</table>\n",
       "</div>"
      ],
      "text/plain": [
       "                 סוג רשות     מחוז דירוג אוכלוסייה[1] דירוג.1 שטח שיפוט  \\\n",
       "רשות מקומית                                                               \n",
       "אבו גוש      מועצה מקומית  ירושלים   196        7,543     237     1,900   \n",
       "אבו סנאן     מועצה מקומית    הצפון   132       13,915     169     6,660   \n",
       "אבן יהודה    מועצה מקומית    המרכז   132       13,700     148     8,250   \n",
       "אום אל-פחם         עירייה     חיפה    33       55,182      71    26,060   \n",
       "אופקים             עירייה    הדרום    70       29,021     124    10,240   \n",
       "\n",
       "            דירוג.2 צפיפות[2] דירוג.3  מדד ג'יני[2] מדד חברתי- דירוג.4  \\\n",
       "רשות מקומית                                                              \n",
       "אבו גוש          48     3,842     245        0.3402          3     NaN   \n",
       "אבו סנאן        108     2,057     181        0.3799          3     NaN   \n",
       "אבן יהודה       136     1,661       6        0.4987          8     NaN   \n",
       "אום אל-פחם      105     2,080     168        0.3846          2     NaN   \n",
       "אופקים           77     2,715     181        0.3799          3     NaN   \n",
       "\n",
       "            מספר יישובים  \n",
       "רשות מקומית               \n",
       "אבו גוש              NaN  \n",
       "אבו סנאן             NaN  \n",
       "אבן יהודה            NaN  \n",
       "אום אל-פחם           NaN  \n",
       "אופקים               NaN  "
      ]
     },
     "execution_count": 225,
     "metadata": {},
     "output_type": "execute_result"
    }
   ],
   "source": [
    "import os\n",
    "# Load in jupyter. In collab you need to upload the file first \n",
    "DEM_PATH = 'C:/Users/Or Zuk/Google Drive/HUJI/Teaching/Lab_52568/Data/Demographics'\n",
    "# Old file:\n",
    "df_hev = pd.read_table(os.path.join(DEM_PATH, r'HevratiCalcaliYeshuvim.txt'), index_col='רשות מקומית').sort_index()  # , encoding='utf-8')\n",
    "df_hev.head()\n",
    "#df_hev.describe()"
   ]
  },
  {
   "cell_type": "code",
   "execution_count": 226,
   "metadata": {},
   "outputs": [
    {
     "data": {
      "text/html": [
       "<div>\n",
       "<style scoped>\n",
       "    .dataframe tbody tr th:only-of-type {\n",
       "        vertical-align: middle;\n",
       "    }\n",
       "\n",
       "    .dataframe tbody tr th {\n",
       "        vertical-align: top;\n",
       "    }\n",
       "\n",
       "    .dataframe thead th {\n",
       "        text-align: right;\n",
       "    }\n",
       "</style>\n",
       "<table border=\"1\" class=\"dataframe\">\n",
       "  <thead>\n",
       "    <tr style=\"text-align: right;\">\n",
       "      <th></th>\n",
       "      <th>name</th>\n",
       "      <th>population</th>\n",
       "      <th>index_value</th>\n",
       "      <th>eco_level</th>\n",
       "    </tr>\n",
       "    <tr>\n",
       "      <th>set_code</th>\n",
       "      <th></th>\n",
       "      <th></th>\n",
       "      <th></th>\n",
       "      <th></th>\n",
       "    </tr>\n",
       "  </thead>\n",
       "  <tbody>\n",
       "    <tr>\n",
       "      <th>7</th>\n",
       "      <td>שחר</td>\n",
       "      <td>838.0</td>\n",
       "      <td>0.565</td>\n",
       "      <td>7</td>\n",
       "    </tr>\n",
       "    <tr>\n",
       "      <th>10</th>\n",
       "      <td>תירוש</td>\n",
       "      <td>474.0</td>\n",
       "      <td>-0.411</td>\n",
       "      <td>4</td>\n",
       "    </tr>\n",
       "    <tr>\n",
       "      <th>11</th>\n",
       "      <td>ניר ח\"ן</td>\n",
       "      <td>503.0</td>\n",
       "      <td>1.109</td>\n",
       "      <td>8</td>\n",
       "    </tr>\n",
       "    <tr>\n",
       "      <th>13</th>\n",
       "      <td>חצבה</td>\n",
       "      <td>566.0</td>\n",
       "      <td>0.676</td>\n",
       "      <td>7</td>\n",
       "    </tr>\n",
       "    <tr>\n",
       "      <th>15</th>\n",
       "      <td>נועם</td>\n",
       "      <td>358.0</td>\n",
       "      <td>-0.282</td>\n",
       "      <td>4</td>\n",
       "    </tr>\n",
       "  </tbody>\n",
       "</table>\n",
       "</div>"
      ],
      "text/plain": [
       "             name  population  index_value  eco_level\n",
       "set_code                                             \n",
       "7             שחר       838.0        0.565          7\n",
       "10          תירוש       474.0       -0.411          4\n",
       "11        ניר ח\"ן       503.0        1.109          8\n",
       "13           חצבה       566.0        0.676          7\n",
       "15           נועם       358.0       -0.282          4"
      ]
     },
     "execution_count": 226,
     "metadata": {},
     "output_type": "execute_result"
    }
   ],
   "source": [
    "# New file: \n",
    "# df_soc_eco = pd.read_csv(os.path.join(DEM_PATH, r'hevrati_calcali_set.csv'), index_col='set_code') # , encoding='utf-8')\n",
    "df_soc_eco = pd.read_excel(os.path.join(DEM_PATH, r'hevrati_calcali_set.xlsx'), index_col='set_code').sort_index()  # 'iso-8859-8',# , encoding='utf-8')\n",
    "df_soc_eco.head()\n"
   ]
  }
 ],
 "metadata": {
  "colab": {
   "name": "ReadElectionData.ipynb",
   "provenance": []
  },
  "kernelspec": {
   "display_name": "Python 3",
   "language": "python",
   "name": "python3"
  },
  "language_info": {
   "codemirror_mode": {
    "name": "ipython",
    "version": 3
   },
   "file_extension": ".py",
   "mimetype": "text/x-python",
   "name": "python",
   "nbconvert_exporter": "python",
   "pygments_lexer": "ipython3",
   "version": "3.7.4"
  }
 },
 "nbformat": 4,
 "nbformat_minor": 1
}
